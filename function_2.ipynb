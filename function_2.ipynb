{
 "cells": [
  {
   "cell_type": "raw",
   "id": "a397ee87-c0bc-419f-9d47-21c0bf466d14",
   "metadata": {},
   "source": [
    "1.What is the difference between a function and a method in Python?\n",
    " -Function: Defined with def at the top level . It’s not tied to any object.\n",
    "\n",
    "Method: A function that belongs to an object (i.e., defined inside a class). \n",
    "-It automatically takes the object itself (self) as the first argument.\n",
    "- **function**\n",
    "def greet(name):\n",
    "    return f\"Hello, {name}!\"\n",
    "print(greet(\"Alice\"))   # Calling a function\n",
    "\n",
    "\n",
    "# Method\n",
    "class Greeter:\n",
    "    def greet(self, name):\n",
    "        return f\"Hello, {name}! I am a method.\"\n",
    "obj = Greeter()\n",
    "print(obj.greet(\"Bob\"))  # Calling a method\n",
    "\n",
    "2.Explain the concept of function arguments and parameters in Python.\n",
    " -Parameters → variables defined in the function definition (placeholders).\n",
    "-Arguments → actual values you pass to the function when calling it.\n",
    "-#  'name' is a PARAMETER\n",
    "def greet(name):\n",
    "    print(f\"Hello, {name}!\")\n",
    "\n",
    "# Here \"Rashmi\" is an Argument\n",
    "greet(\"rashmi\")\n",
    "\n",
    "3.What are the different ways to define and call a function in Python?\n",
    " -No parameters\n",
    "-Parameters (positional, keyword, default)\n",
    "-Variable arguments (*args, **kwargs)\n",
    "-Anonymous functions (lambda)\n",
    "\n",
    "4.**What is the purpose of the `return` statement in a Python function?**\n",
    " -The return statement in Python is used to send a value back from a function to the caller.\n",
    " -example:\n",
    " def add(a, b):\n",
    "    print(a + b)   \n",
    "\n",
    "result = add(3, 5)\n",
    "print(\"Result:\", result)\n",
    "\n",
    "5.**What are iterators in Python and how do they differ from iterables?**\n",
    "-An iterator is an object that represents a stream of data\n",
    "-they differ from an interable because,Every iterator is also an iterable (because it implements __iter__()), but not every iterable is an iterator (as it may not implement __next__()). You can obtain an iterator from an iterable using the built-in iter() function.\n",
    "\n",
    "6.** Explain the concept of generators in Python and how they are defined**.\n",
    " -A generator is a special type of iterator in Python.\n",
    "-Instead of storing all values in memory (like a list), it yields values one by one when needed.\n",
    "-Defined using the yield keyword (instead of return).\n",
    "\n",
    "exmple:\n",
    " def count_up_to(n):\n",
    "    num = 1\n",
    "    while num <= n:\n",
    "        yield num    \n",
    "        num += 1\n",
    "\n",
    "gen = count_up_to(3)   \n",
    "\n",
    "print(next(gen))  \n",
    "print(next(gen))  \n",
    "print(next(gen)) \n",
    " \n",
    "7.**What are the advantages of using generators over regular functions?**\n",
    " -Memory Efficiency\n",
    " -Infinite Sequences\n",
    " -Improved Performance\n",
    "\n",
    "8. **What is a lambda function in Python and when is it typically used?**\n",
    " -A lambda function is a small anonymous function in Python.\n",
    "\n",
    "Defined using the keyword lambda instead of def.\n",
    "\n",
    "It can have any number of arguments but only one expression.\n",
    "\n",
    "Syntax:\n",
    "\n",
    "lambda arguments: expression\n",
    "\n",
    "9.*** Explain the purpose and usage of the `map()` function in Python.***\n",
    "-The map() function is used to apply a function to every item in an iterable (like a list, tuple, etc.) and returns a map object (an iterator).\n",
    "\n",
    " <!-- def square(x):\n",
    "    return x * x\n",
    "\n",
    "numbers = [1, 2, 3, 4]\n",
    "result = map(square, numbers)\n",
    "\n",
    "print(list(result))  # [1, 4, 9, 16] -->\n",
    "\n",
    "10.*** What is the difference between `map()`, `reduce()`, and `filter()` functions in Python?***\n",
    "-map()\n",
    "\n",
    "Purpose: Apply a function to each item in an iterable → returns a new iterable.\n",
    "\n",
    "numbers = [1, 2, 3, 4]\n",
    "\n",
    "result = map(lambda x: x * 2, numbers)\n",
    "print(list(result))   \n",
    "\n",
    "-filter()\n",
    "Purpose: Keep only the items that satisfy a condition → returns a new iterable.\n",
    "\n",
    "numbers = [1, 2, 3, 4, 5, 6]\n",
    "\n",
    "result = filter(lambda x: x % 2 == 0, numbers)\n",
    "print(list(result))   \n",
    "\n",
    "-reduce() (from functools)\n",
    "Purpose: Apply a function cumulatively to reduce the iterable into a single value.\n",
    "\n",
    "from functools import reduce\n",
    "\n",
    "numbers = [1, 2, 3, 4]\n",
    "\n",
    "result = reduce(lambda x, y: x + y, numbers)\n",
    "print(result) \n",
    "\n",
    "11.*** Using pen & Paper write the internal mechanism for sum operation using  reduce function on this given**.\n",
    "list:[47,11,42,13]***\n",
    "\n",
    "\n",
    "\n",
    "\n"
   ]
  },
  {
   "cell_type": "code",
   "execution_count": 1,
   "id": "b0a8096c-4a00-46ee-bfdf-82e00959bd89",
   "metadata": {},
   "outputs": [
    {
     "name": "stdout",
     "output_type": "stream",
     "text": [
      "56\n"
     ]
    }
   ],
   "source": [
    "#Write a Python function that takes a list of numbers as input and returns the sum of all even numbers in the list.\n",
    "def sum_of_even_numbers(numbers):\n",
    "    total = 0\n",
    "    for num in numbers:\n",
    "        if num % 2 == 0:  \n",
    "            total += num\n",
    "    return total\n",
    "\n",
    "\n",
    "my_list = [47, 11, 42, 13, 8, 6]\n",
    "print(sum_of_even_numbers(my_list))   "
   ]
  },
  {
   "cell_type": "code",
   "execution_count": 2,
   "id": "f04fc331-e6e1-4296-94c4-6fe96d5c6a3e",
   "metadata": {},
   "outputs": [
    {
     "name": "stdout",
     "output_type": "stream",
     "text": [
      "nohtyP\n"
     ]
    }
   ],
   "source": [
    "# Create a Python function that accepts a string and returns the reverse of that string.\n",
    "def reverse_string(s):\n",
    "    return s[::-1]  \n",
    "\n",
    "# Example usage\n",
    "text = \"Python\"\n",
    "print(reverse_string(text))  "
   ]
  },
  {
   "cell_type": "code",
   "execution_count": 14,
   "id": "a9b4967d-acb2-4a4c-8b97-ed332375ab05",
   "metadata": {},
   "outputs": [
    {
     "name": "stdout",
     "output_type": "stream",
     "text": [
      "[1, 4, 9, 16, 25]\n"
     ]
    }
   ],
   "source": [
    "#Implement a Python function that takes a list of integers and returns a new list containing the squares of\n",
    "def square_list(numbers):\n",
    "    return [x**2 for x in numbers]\n",
    "nums = [1, 2, 3, 4, 5]\n",
    "squared_nums = square_list(nums)\n",
    "print(squared_nums)  # Output: [1, 4, 9, 16, 25]"
   ]
  },
  {
   "cell_type": "code",
   "execution_count": 15,
   "id": "207d0cca-f875-4b62-8c6b-4cc499eee9d3",
   "metadata": {},
   "outputs": [
    {
     "name": "stdout",
     "output_type": "stream",
     "text": [
      "2 is prime\n",
      "3 is prime\n",
      "5 is prime\n",
      "7 is prime\n",
      "11 is prime\n",
      "13 is prime\n",
      "17 is prime\n",
      "19 is prime\n",
      "23 is prime\n",
      "29 is prime\n",
      "31 is prime\n",
      "37 is prime\n",
      "41 is prime\n",
      "43 is prime\n",
      "47 is prime\n",
      "53 is prime\n",
      "59 is prime\n",
      "61 is prime\n",
      "67 is prime\n",
      "71 is prime\n",
      "73 is prime\n",
      "79 is prime\n",
      "83 is prime\n",
      "89 is prime\n",
      "97 is prime\n",
      "101 is prime\n",
      "103 is prime\n",
      "107 is prime\n",
      "109 is prime\n",
      "113 is prime\n",
      "127 is prime\n",
      "131 is prime\n",
      "137 is prime\n",
      "139 is prime\n",
      "149 is prime\n",
      "151 is prime\n",
      "157 is prime\n",
      "163 is prime\n",
      "167 is prime\n",
      "173 is prime\n",
      "179 is prime\n",
      "181 is prime\n",
      "191 is prime\n",
      "193 is prime\n",
      "197 is prime\n",
      "199 is prime\n"
     ]
    }
   ],
   "source": [
    "# Write a Python function that checks if a given number is prime or not from 1 to 200.\n",
    "def is_prime(n):\n",
    "    if n < 2:\n",
    "        return False\n",
    "    for i in range(2, int(n**0.5) + 1):  # check up to sqrt(n)\n",
    "        if n % i == 0:\n",
    "            return False\n",
    "    return True\n",
    "\n",
    "for num in range(1, 201):\n",
    "    if is_prime(num):\n",
    "        print(num, \"is prime\")"
   ]
  },
  {
   "cell_type": "code",
   "execution_count": 16,
   "id": "90927078-4a9f-48f8-8daa-a0bf78dacc4e",
   "metadata": {},
   "outputs": [
    {
     "name": "stdout",
     "output_type": "stream",
     "text": [
      "0 1 1 2 3 5 8 13 21 34 "
     ]
    }
   ],
   "source": [
    "# Create an iterator class in Python that generates the Fibonacci sequence up to a specified number of terms.\n",
    "class Fibonacci:\n",
    "    def __init__(self, n_terms):\n",
    "        self.n_terms = n_terms   \n",
    "        self.a, self.b = 0, 1    \n",
    "        self.count = 0\n",
    "\n",
    "    def __iter__(self):\n",
    "        return self  \n",
    "\n",
    "    def __next__(self):\n",
    "        if self.count >= self.n_terms:\n",
    "            raise StopIteration   \n",
    "        if self.count == 0:\n",
    "            self.count += 1\n",
    "            return self.a\n",
    "        elif self.count == 1:\n",
    "            self.count += 1\n",
    "            return self.b\n",
    "        else:\n",
    "            self.a, self.b = self.b, self.a + self.b\n",
    "            self.count += 1\n",
    "            return self.b\n",
    "\n",
    "\n",
    "# Example usage\n",
    "fib = Fibonacci(10)  \n",
    "for num in fib:\n",
    "    print(num, end=\" \")\n"
   ]
  },
  {
   "cell_type": "code",
   "execution_count": 17,
   "id": "f6f416ce-bf69-4a55-90b5-7f6017875eb5",
   "metadata": {},
   "outputs": [
    {
     "name": "stdout",
     "output_type": "stream",
     "text": [
      "1 2 4 8 16 32 "
     ]
    }
   ],
   "source": [
    "#Write a generator function in Python that yields the powers of 2 up to a given exponent.\n",
    "def powers_of_two(n):\n",
    "    for i in range(n + 1):   # include n\n",
    "        yield 2 ** i\n",
    "\n",
    "# Example usage\n",
    "for val in powers_of_two(5):\n",
    "    print(val, end=\" \")\n"
   ]
  },
  {
   "cell_type": "code",
   "execution_count": 18,
   "id": "56b693e2-2a4a-44ae-ae39-47d2f7dbfe62",
   "metadata": {},
   "outputs": [],
   "source": [
    "#Implement a generator function that reads a file line by line and yields each line as a string.\n",
    "def read_file_lines(filename):\n",
    "    with open(filename, \"r\") as file:\n",
    "        for line in file:\n",
    "            yield line.strip()   \n",
    "            for line in read_file_lines(\"example.txt\"):\n",
    "             print(line)\n"
   ]
  },
  {
   "cell_type": "code",
   "execution_count": 19,
   "id": "aac97988-76c3-4967-8d45-f5a29fd04dd7",
   "metadata": {},
   "outputs": [
    {
     "name": "stdout",
     "output_type": "stream",
     "text": [
      "[(4, 1), (2, 2), (1, 5), (3, 8)]\n"
     ]
    }
   ],
   "source": [
    "#Use a lambda function in Python to sort a list of tuples based on the second element of each tuple.\n",
    "# Sample list of tuples\n",
    "data = [(1, 5), (2, 2), (3, 8), (4, 1)]\n",
    "\n",
    "# Sort by the second element of each tuple\n",
    "sorted_data = sorted(data, key=lambda x: x[1])\n",
    "\n",
    "print(sorted_data)\n"
   ]
  },
  {
   "cell_type": "code",
   "execution_count": 20,
   "id": "9f3ffe3d-7ad1-45fe-867b-b28ba2f76728",
   "metadata": {},
   "outputs": [
    {
     "name": "stdout",
     "output_type": "stream",
     "text": [
      "[32.0, 68.0, 98.6, 212.0]\n"
     ]
    }
   ],
   "source": [
    "# Write a Python program that uses `map()` to convert a list of temperatures from Celsius to Fahrenheit.\n",
    "# Function to convert Celsius to Fahrenheit\n",
    "def c_to_f(celsius):\n",
    "    return (celsius * 9/5) + 32\n",
    "\n",
    "# List of temperatures in Celsius\n",
    "celsius_temps = [0, 20, 37, 100]\n",
    "\n",
    "# Use map() \n",
    "fahrenheit_temps = list(map(c_to_f, celsius_temps))\n",
    "\n",
    "print(fahrenheit_temps)\n"
   ]
  },
  {
   "cell_type": "code",
   "execution_count": 21,
   "id": "83ce1908-aded-40d4-a75c-51ae470b4768",
   "metadata": {},
   "outputs": [
    {
     "name": "stdout",
     "output_type": "stream",
     "text": [
      "Hll, Pythn Wrld!\n"
     ]
    }
   ],
   "source": [
    "# Create a Python program that uses `filter()` to remove all the vowels from a given string.\n",
    "def is_not_vowel(char):\n",
    "    return char.lower() not in 'aeiou'\n",
    "\n",
    "# Input string\n",
    "text = \"Hello, Python World!\"\n",
    "\n",
    "# Use filter() to remove vowels\n",
    "filtered_text = ''.join(filter(is_not_vowel, text))\n",
    "\n",
    "print(filtered_text)\n"
   ]
  },
  {
   "cell_type": "code",
   "execution_count": null,
   "id": "38b28a94-27df-4df6-b9e0-842aabd66186",
   "metadata": {},
   "outputs": [],
   "source": []
  }
 ],
 "metadata": {
  "kernelspec": {
   "display_name": "Python 3 (ipykernel)",
   "language": "python",
   "name": "python3"
  },
  "language_info": {
   "codemirror_mode": {
    "name": "ipython",
    "version": 3
   },
   "file_extension": ".py",
   "mimetype": "text/x-python",
   "name": "python",
   "nbconvert_exporter": "python",
   "pygments_lexer": "ipython3",
   "version": "3.13.2"
  }
 },
 "nbformat": 4,
 "nbformat_minor": 5
}
